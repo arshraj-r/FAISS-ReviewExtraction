{
 "cells": [
  {
   "cell_type": "code",
   "execution_count": 1,
   "id": "64f8d330-c9a4-467b-9005-6a690e55d3d4",
   "metadata": {},
   "outputs": [
    {
     "name": "stdout",
     "output_type": "stream",
     "text": [
      "C:\\Users\\Arshraj\\Desktop\\GitHub\\FAISS-ReviewExtraction\\data\n"
     ]
    }
   ],
   "source": [
    "import os\n",
    "print(os.getcwd())\n",
    "import pandas as pd"
   ]
  },
  {
   "cell_type": "code",
   "execution_count": 2,
   "id": "7fbee726-fbf6-471e-af58-43b0cd78b95a",
   "metadata": {},
   "outputs": [],
   "source": [
    "from google_play_scraper import Sort, reviews_all\n",
    "\n",
    "result = reviews_all(\n",
    "    'com.tripadvisor.tripadvisor',\n",
    "    sleep_milliseconds=0, # defaults to 0\n",
    "    lang='en', # defaults to 'en'\n",
    "    country='us', # defaults to 'us'\n",
    "    sort=Sort.MOST_RELEVANT, # defaults to Sort.MOST_RELEVANT\n",
    "    filter_score_with=5 # defaults to None(means all score)\n",
    ")"
   ]
  },
  {
   "cell_type": "code",
   "execution_count": 3,
   "id": "111d4f37-1d3d-4e64-85f1-51c5cf73e175",
   "metadata": {},
   "outputs": [
    {
     "name": "stdout",
     "output_type": "stream",
     "text": [
      "<class 'pandas.core.frame.DataFrame'>\n",
      "RangeIndex: 99292 entries, 0 to 99291\n",
      "Data columns (total 11 columns):\n",
      " #   Column                Non-Null Count  Dtype         \n",
      "---  ------                --------------  -----         \n",
      " 0   reviewId              99292 non-null  object        \n",
      " 1   userName              99292 non-null  object        \n",
      " 2   userImage             99292 non-null  object        \n",
      " 3   content               98472 non-null  object        \n",
      " 4   score                 99292 non-null  int64         \n",
      " 5   thumbsUpCount         99292 non-null  int64         \n",
      " 6   reviewCreatedVersion  89212 non-null  object        \n",
      " 7   at                    99292 non-null  datetime64[ns]\n",
      " 8   replyContent          7 non-null      object        \n",
      " 9   repliedAt             7 non-null      datetime64[ns]\n",
      " 10  appVersion            89212 non-null  object        \n",
      "dtypes: datetime64[ns](2), int64(2), object(7)\n",
      "memory usage: 8.3+ MB\n"
     ]
    }
   ],
   "source": [
    "df=pd.DataFrame(result)\n",
    "df.info()"
   ]
  },
  {
   "cell_type": "code",
   "execution_count": 4,
   "id": "70e0773c-60fa-4b3b-b841-c1a91ec9c432",
   "metadata": {},
   "outputs": [],
   "source": [
    "df.to_csv(\"playstore_reviews.csv\",index=False)"
   ]
  },
  {
   "cell_type": "code",
   "execution_count": null,
   "id": "d350658e-05a9-46c6-9067-62059f2e7be3",
   "metadata": {},
   "outputs": [],
   "source": []
  }
 ],
 "metadata": {
  "kernelspec": {
   "display_name": "Python 3 (ipykernel)",
   "language": "python",
   "name": "python3"
  },
  "language_info": {
   "codemirror_mode": {
    "name": "ipython",
    "version": 3
   },
   "file_extension": ".py",
   "mimetype": "text/x-python",
   "name": "python",
   "nbconvert_exporter": "python",
   "pygments_lexer": "ipython3",
   "version": "3.11.9"
  }
 },
 "nbformat": 4,
 "nbformat_minor": 5
}
