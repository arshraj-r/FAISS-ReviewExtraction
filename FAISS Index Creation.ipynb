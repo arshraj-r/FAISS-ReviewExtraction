{
 "cells": [
  {
   "cell_type": "code",
   "execution_count": 28,
   "id": "ee5abd7c-fa62-4e35-8aa5-56f79846c165",
   "metadata": {},
   "outputs": [
    {
     "name": "stdout",
     "output_type": "stream",
     "text": [
      "C:\\Users\\Arshraj\\Desktop\\GitHub\\FAISS-ReviewExtraction\n"
     ]
    }
   ],
   "source": [
    "import os\n",
    "import pandas as pd\n",
    "import numpy as np\n",
    "import faiss\n",
    "print(os.getcwd())"
   ]
  },
  {
   "cell_type": "code",
   "execution_count": 39,
   "id": "f1626190-67c6-4b48-93fa-4a50013ad052",
   "metadata": {},
   "outputs": [
    {
     "name": "stdout",
     "output_type": "stream",
     "text": [
      "<class 'pandas.core.frame.DataFrame'>\n",
      "RangeIndex: 40000 entries, 0 to 39999\n",
      "Data columns (total 11 columns):\n",
      " #   Column                Non-Null Count  Dtype \n",
      "---  ------                --------------  ----- \n",
      " 0   reviewId              40000 non-null  object\n",
      " 1   userName              40000 non-null  object\n",
      " 2   userImage             40000 non-null  object\n",
      " 3   content               40000 non-null  object\n",
      " 4   score                 40000 non-null  int64 \n",
      " 5   thumbsUpCount         40000 non-null  int64 \n",
      " 6   reviewCreatedVersion  38549 non-null  object\n",
      " 7   at                    40000 non-null  object\n",
      " 8   replyContent          6 non-null      object\n",
      " 9   repliedAt             6 non-null      object\n",
      " 10  appVersion            38549 non-null  object\n",
      "dtypes: int64(2), object(9)\n",
      "memory usage: 3.4+ MB\n"
     ]
    }
   ],
   "source": [
    "df=pd.read_csv(\"data\\playstore_reviews.csv\")\n",
    "df.dropna(subset=[\"content\"],inplace=True)\n",
    "df.reset_index(drop=True, inplace=True)\n",
    "df=df[:40000].copy()\n",
    "reviews=df[\"content\"].to_list()\n",
    "df.info()\n",
    "df.to_csv(\"faiss-index-df.csv\")"
   ]
  },
  {
   "cell_type": "code",
   "execution_count": null,
   "id": "c136ed06-0d3f-4838-94cc-6b4542075c8b",
   "metadata": {},
   "outputs": [
    {
     "name": "stderr",
     "output_type": "stream",
     "text": [
      "C:\\Users\\Arshraj\\anaconda3\\envs\\myenv1\\Lib\\site-packages\\huggingface_hub\\file_download.py:1132: FutureWarning: `resume_download` is deprecated and will be removed in version 1.0.0. Downloads always resume when possible. If you want to force a new download, use `force_download=True`.\n",
      "  warnings.warn(\n"
     ]
    },
    {
     "data": {
      "application/vnd.jupyter.widget-view+json": {
       "model_id": "ecca38a1fdcb41bd9bf9899822eac303",
       "version_major": 2,
       "version_minor": 0
      },
      "text/plain": [
       "Batches:   0%|          | 0/1250 [00:00<?, ?it/s]"
      ]
     },
     "metadata": {},
     "output_type": "display_data"
    }
   ],
   "source": [
    "from sentence_transformers import SentenceTransformer\n",
    "# initialize sentence transformer model\n",
    "model = SentenceTransformer(\"all-MiniLM-L6-v2\")\n",
    "# create sentence embeddings\n",
    "sentence_embeddings = model.encode(reviews,show_progress_bar=True)"
   ]
  },
  {
   "cell_type": "code",
   "execution_count": null,
   "id": "7e640304-9d51-4f41-823e-9a0e7fb27a01",
   "metadata": {},
   "outputs": [],
   "source": [
    "def create_faiss_index(embeddings):\n",
    "    \n",
    "    # Step 1: Normalize the embeddings using FAISS's L2 normalization\n",
    "    faiss.normalize_L2(embeddings)  # In-place normalization\n",
    "    \n",
    "    # Step 2: Create a FAISS index with IndexFlatIP (Inner Product)\n",
    "    index = faiss.IndexFlatIP(embeddings.shape[1])\n",
    "    \n",
    "    # Step 3: Add normalized embeddings to the index\n",
    "    index.add(embeddings)\n",
    "    \n",
    "    return index\n",
    "faiss_index=create_faiss_index(sentence_embeddings)"
   ]
  },
  {
   "cell_type": "code",
   "execution_count": null,
   "id": "0ac9ece1-4e5b-4b1b-99da-3ffb1fa8025d",
   "metadata": {},
   "outputs": [],
   "source": [
    "faiss.write_index(faiss_index, \"playstore_reviews.index\")"
   ]
  },
  {
   "cell_type": "code",
   "execution_count": null,
   "id": "c37fd071-950b-4092-bb50-a5bc8ed3cf76",
   "metadata": {},
   "outputs": [],
   "source": []
  },
  {
   "cell_type": "code",
   "execution_count": null,
   "id": "4bd1ac28-273e-428f-b084-76642108f7e6",
   "metadata": {},
   "outputs": [],
   "source": []
  }
 ],
 "metadata": {
  "kernelspec": {
   "display_name": "Python 3 (ipykernel)",
   "language": "python",
   "name": "python3"
  },
  "language_info": {
   "codemirror_mode": {
    "name": "ipython",
    "version": 3
   },
   "file_extension": ".py",
   "mimetype": "text/x-python",
   "name": "python",
   "nbconvert_exporter": "python",
   "pygments_lexer": "ipython3",
   "version": "3.11.9"
  }
 },
 "nbformat": 4,
 "nbformat_minor": 5
}
