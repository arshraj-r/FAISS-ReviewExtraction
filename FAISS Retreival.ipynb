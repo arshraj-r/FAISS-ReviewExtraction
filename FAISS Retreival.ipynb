{
 "cells": [
  {
   "cell_type": "code",
   "execution_count": 1,
   "id": "e8d119a6-8502-4e3f-a1db-41575888af2e",
   "metadata": {},
   "outputs": [
    {
     "name": "stdout",
     "output_type": "stream",
     "text": [
      "C:\\Users\\Arshraj\\Desktop\\GitHub\\FAISS-ReviewExtraction\n"
     ]
    }
   ],
   "source": [
    "import os\n",
    "import pandas as pd\n",
    "import numpy as np\n",
    "import faiss\n",
    "print(os.getcwd())"
   ]
  },
  {
   "cell_type": "code",
   "execution_count": 43,
   "id": "b7bf6060-f7ab-4b68-af77-38e8162dbafb",
   "metadata": {},
   "outputs": [
    {
     "name": "stdout",
     "output_type": "stream",
     "text": [
      "<class 'pandas.core.frame.DataFrame'>\n",
      "Index: 200 entries, 0 to 199\n",
      "Data columns (total 1 columns):\n",
      " #   Column   Non-Null Count  Dtype \n",
      "---  ------   --------------  ----- \n",
      " 0   content  200 non-null    object\n",
      "dtypes: object(1)\n",
      "memory usage: 3.1+ KB\n"
     ]
    }
   ],
   "source": [
    "index = faiss.read_index(\"playstore_reviews.index\")\n",
    "df=pd.read_csv(\"faiss-index-df.csv\")\n",
    "df.rename(columns={\"Unnamed: 0\":\"Index\"},inplace=True)\n",
    "\n",
    "df.set_index(\"Index\",inplace=True)\n",
    "df=df[[\"content\"]]\n",
    "df.info()"
   ]
  },
  {
   "cell_type": "code",
   "execution_count": 44,
   "id": "66fa3083-65bd-40f1-8f35-fb87cb09283e",
   "metadata": {},
   "outputs": [
    {
     "name": "stderr",
     "output_type": "stream",
     "text": [
      "C:\\Users\\Arshraj\\anaconda3\\envs\\myenv1\\Lib\\site-packages\\huggingface_hub\\file_download.py:1132: FutureWarning: `resume_download` is deprecated and will be removed in version 1.0.0. Downloads always resume when possible. If you want to force a new download, use `force_download=True`.\n",
      "  warnings.warn(\n"
     ]
    }
   ],
   "source": [
    "from sentence_transformers import SentenceTransformer\n",
    "# initialize sentence transformer model\n",
    "model = SentenceTransformer(\"all-MiniLM-L6-v2\")\n",
    "# create sentence embeddings\n",
    "# sentence_embeddings = model.encode(reviews,show_progress_bar=True)"
   ]
  },
  {
   "cell_type": "code",
   "execution_count": 45,
   "id": "e5e33030-bff9-4797-a595-efceffd07b86",
   "metadata": {},
   "outputs": [
    {
     "data": {
      "application/vnd.jupyter.widget-view+json": {
       "model_id": "c128b80257f44d32a5899151f35807df",
       "version_major": 2,
       "version_minor": 0
      },
      "text/plain": [
       "Batches:   0%|          | 0/1 [00:00<?, ?it/s]"
      ]
     },
     "metadata": {},
     "output_type": "display_data"
    },
    {
     "name": "stdout",
     "output_type": "stream",
     "text": [
      "d= 384\n"
     ]
    }
   ],
   "source": [
    "query_sentence=\"i dont like this app\"\n",
    "xq=model.encode([query_sentence],show_progress_bar=True)\n",
    "faiss.normalize_L2(query_embedding)\n",
    "d = query_embedding.shape[1]\n",
    "print(\"d=\",d)\n",
    "k = 10  # number of nearest neighbors to return\n",
    "D, I = index.search(xq, k)"
   ]
  },
  {
   "cell_type": "code",
   "execution_count": 46,
   "id": "920df15d-124d-404a-9d0f-a45ec90042d1",
   "metadata": {},
   "outputs": [],
   "source": [
    "d={\"Query\":[query_sentence]*len(D[0]),\"Distance\":D[0], \"Index\":I[0]}"
   ]
  },
  {
   "cell_type": "code",
   "execution_count": 47,
   "id": "43a75f3c-d271-420b-9149-4d79b21a0a52",
   "metadata": {},
   "outputs": [
    {
     "data": {
      "text/html": [
       "<div>\n",
       "<style scoped>\n",
       "    .dataframe tbody tr th:only-of-type {\n",
       "        vertical-align: middle;\n",
       "    }\n",
       "\n",
       "    .dataframe tbody tr th {\n",
       "        vertical-align: top;\n",
       "    }\n",
       "\n",
       "    .dataframe thead th {\n",
       "        text-align: right;\n",
       "    }\n",
       "</style>\n",
       "<table border=\"1\" class=\"dataframe\">\n",
       "  <thead>\n",
       "    <tr style=\"text-align: right;\">\n",
       "      <th></th>\n",
       "      <th>Query</th>\n",
       "      <th>Distance</th>\n",
       "    </tr>\n",
       "    <tr>\n",
       "      <th>Index</th>\n",
       "      <th></th>\n",
       "      <th></th>\n",
       "    </tr>\n",
       "  </thead>\n",
       "  <tbody>\n",
       "    <tr>\n",
       "      <th>61</th>\n",
       "      <td>i dont like this app</td>\n",
       "      <td>0.557343</td>\n",
       "    </tr>\n",
       "    <tr>\n",
       "      <th>88</th>\n",
       "      <td>i dont like this app</td>\n",
       "      <td>0.528021</td>\n",
       "    </tr>\n",
       "    <tr>\n",
       "      <th>191</th>\n",
       "      <td>i dont like this app</td>\n",
       "      <td>0.523363</td>\n",
       "    </tr>\n",
       "    <tr>\n",
       "      <th>180</th>\n",
       "      <td>i dont like this app</td>\n",
       "      <td>0.520198</td>\n",
       "    </tr>\n",
       "    <tr>\n",
       "      <th>188</th>\n",
       "      <td>i dont like this app</td>\n",
       "      <td>0.491869</td>\n",
       "    </tr>\n",
       "    <tr>\n",
       "      <th>181</th>\n",
       "      <td>i dont like this app</td>\n",
       "      <td>0.483325</td>\n",
       "    </tr>\n",
       "    <tr>\n",
       "      <th>1</th>\n",
       "      <td>i dont like this app</td>\n",
       "      <td>0.466134</td>\n",
       "    </tr>\n",
       "    <tr>\n",
       "      <th>93</th>\n",
       "      <td>i dont like this app</td>\n",
       "      <td>0.465823</td>\n",
       "    </tr>\n",
       "    <tr>\n",
       "      <th>86</th>\n",
       "      <td>i dont like this app</td>\n",
       "      <td>0.464619</td>\n",
       "    </tr>\n",
       "    <tr>\n",
       "      <th>134</th>\n",
       "      <td>i dont like this app</td>\n",
       "      <td>0.463464</td>\n",
       "    </tr>\n",
       "  </tbody>\n",
       "</table>\n",
       "</div>"
      ],
      "text/plain": [
       "                      Query  Distance\n",
       "Index                                \n",
       "61     i dont like this app  0.557343\n",
       "88     i dont like this app  0.528021\n",
       "191    i dont like this app  0.523363\n",
       "180    i dont like this app  0.520198\n",
       "188    i dont like this app  0.491869\n",
       "181    i dont like this app  0.483325\n",
       "1      i dont like this app  0.466134\n",
       "93     i dont like this app  0.465823\n",
       "86     i dont like this app  0.464619\n",
       "134    i dont like this app  0.463464"
      ]
     },
     "execution_count": 47,
     "metadata": {},
     "output_type": "execute_result"
    }
   ],
   "source": [
    "resultsdf=pd.DataFrame(data=d)\n",
    "resultsdf.set_index(\"Index\",inplace=True)\n",
    "resultsdf"
   ]
  },
  {
   "cell_type": "code",
   "execution_count": 48,
   "id": "4dab3bbf-1070-46a6-bb14-8224a0db0ef6",
   "metadata": {},
   "outputs": [],
   "source": [
    "result=pd.merge(resultsdf,df,how=\"left\",left_index=True, right_index=True)"
   ]
  },
  {
   "cell_type": "code",
   "execution_count": 49,
   "id": "802d2023-1eeb-4c84-94ac-01a7b2842565",
   "metadata": {},
   "outputs": [
    {
     "data": {
      "text/html": [
       "<div>\n",
       "<style scoped>\n",
       "    .dataframe tbody tr th:only-of-type {\n",
       "        vertical-align: middle;\n",
       "    }\n",
       "\n",
       "    .dataframe tbody tr th {\n",
       "        vertical-align: top;\n",
       "    }\n",
       "\n",
       "    .dataframe thead th {\n",
       "        text-align: right;\n",
       "    }\n",
       "</style>\n",
       "<table border=\"1\" class=\"dataframe\">\n",
       "  <thead>\n",
       "    <tr style=\"text-align: right;\">\n",
       "      <th></th>\n",
       "      <th>Query</th>\n",
       "      <th>Distance</th>\n",
       "      <th>content</th>\n",
       "    </tr>\n",
       "    <tr>\n",
       "      <th>Index</th>\n",
       "      <th></th>\n",
       "      <th></th>\n",
       "      <th></th>\n",
       "    </tr>\n",
       "  </thead>\n",
       "  <tbody>\n",
       "    <tr>\n",
       "      <th>61</th>\n",
       "      <td>i dont like this app</td>\n",
       "      <td>0.557343</td>\n",
       "      <td>Fantastic app. The only problem is that I have...</td>\n",
       "    </tr>\n",
       "    <tr>\n",
       "      <th>88</th>\n",
       "      <td>i dont like this app</td>\n",
       "      <td>0.528021</td>\n",
       "      <td>After all these years, this app keeps getting ...</td>\n",
       "    </tr>\n",
       "    <tr>\n",
       "      <th>191</th>\n",
       "      <td>i dont like this app</td>\n",
       "      <td>0.523363</td>\n",
       "      <td>Great app. I use the app mainly to read review...</td>\n",
       "    </tr>\n",
       "    <tr>\n",
       "      <th>180</th>\n",
       "      <td>i dont like this app</td>\n",
       "      <td>0.520198</td>\n",
       "      <td>Great app. Works well and loads of offers</td>\n",
       "    </tr>\n",
       "    <tr>\n",
       "      <th>188</th>\n",
       "      <td>i dont like this app</td>\n",
       "      <td>0.491869</td>\n",
       "      <td>Great app. Most of all, when you get hints abo...</td>\n",
       "    </tr>\n",
       "    <tr>\n",
       "      <th>181</th>\n",
       "      <td>i dont like this app</td>\n",
       "      <td>0.483325</td>\n",
       "      <td>Great app to assist in getting local knowledge...</td>\n",
       "    </tr>\n",
       "    <tr>\n",
       "      <th>1</th>\n",
       "      <td>i dont like this app</td>\n",
       "      <td>0.466134</td>\n",
       "      <td>This is the BEST app EVER! I NEVER plan a trip...</td>\n",
       "    </tr>\n",
       "    <tr>\n",
       "      <th>93</th>\n",
       "      <td>i dont like this app</td>\n",
       "      <td>0.465823</td>\n",
       "      <td>I use this app for all of my officials and uno...</td>\n",
       "    </tr>\n",
       "    <tr>\n",
       "      <th>86</th>\n",
       "      <td>i dont like this app</td>\n",
       "      <td>0.464619</td>\n",
       "      <td>A wonderful, interactive app to help you choos...</td>\n",
       "    </tr>\n",
       "    <tr>\n",
       "      <th>134</th>\n",
       "      <td>i dont like this app</td>\n",
       "      <td>0.463464</td>\n",
       "      <td>Seems easy to work your way round the app and ...</td>\n",
       "    </tr>\n",
       "  </tbody>\n",
       "</table>\n",
       "</div>"
      ],
      "text/plain": [
       "                      Query  Distance  \\\n",
       "Index                                   \n",
       "61     i dont like this app  0.557343   \n",
       "88     i dont like this app  0.528021   \n",
       "191    i dont like this app  0.523363   \n",
       "180    i dont like this app  0.520198   \n",
       "188    i dont like this app  0.491869   \n",
       "181    i dont like this app  0.483325   \n",
       "1      i dont like this app  0.466134   \n",
       "93     i dont like this app  0.465823   \n",
       "86     i dont like this app  0.464619   \n",
       "134    i dont like this app  0.463464   \n",
       "\n",
       "                                                 content  \n",
       "Index                                                     \n",
       "61     Fantastic app. The only problem is that I have...  \n",
       "88     After all these years, this app keeps getting ...  \n",
       "191    Great app. I use the app mainly to read review...  \n",
       "180            Great app. Works well and loads of offers  \n",
       "188    Great app. Most of all, when you get hints abo...  \n",
       "181    Great app to assist in getting local knowledge...  \n",
       "1      This is the BEST app EVER! I NEVER plan a trip...  \n",
       "93     I use this app for all of my officials and uno...  \n",
       "86     A wonderful, interactive app to help you choos...  \n",
       "134    Seems easy to work your way round the app and ...  "
      ]
     },
     "execution_count": 49,
     "metadata": {},
     "output_type": "execute_result"
    }
   ],
   "source": [
    "result"
   ]
  },
  {
   "cell_type": "code",
   "execution_count": null,
   "id": "42337e75-7e8e-4f0e-9c6b-d633476f4c9e",
   "metadata": {},
   "outputs": [],
   "source": []
  },
  {
   "cell_type": "code",
   "execution_count": null,
   "id": "810d8de7-cddb-48e7-8f4e-835bbdfbf4fb",
   "metadata": {},
   "outputs": [],
   "source": []
  }
 ],
 "metadata": {
  "kernelspec": {
   "display_name": "Python 3 (ipykernel)",
   "language": "python",
   "name": "python3"
  },
  "language_info": {
   "codemirror_mode": {
    "name": "ipython",
    "version": 3
   },
   "file_extension": ".py",
   "mimetype": "text/x-python",
   "name": "python",
   "nbconvert_exporter": "python",
   "pygments_lexer": "ipython3",
   "version": "3.11.9"
  }
 },
 "nbformat": 4,
 "nbformat_minor": 5
}
